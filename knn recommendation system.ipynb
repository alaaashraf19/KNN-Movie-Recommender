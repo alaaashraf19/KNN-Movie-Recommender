{
 "cells": [
  {
   "cell_type": "code",
   "execution_count": 7,
   "metadata": {},
   "outputs": [],
   "source": [
    "import pandas as pd\n",
    "import numpy as np\n",
    "\n"
   ]
  },
  {
   "cell_type": "markdown",
   "metadata": {},
   "source": [
    "Reading data and identifying column names"
   ]
  },
  {
   "cell_type": "code",
   "execution_count": 8,
   "metadata": {},
   "outputs": [],
   "source": [
    "data = pd.read_csv(\"u.data\", sep=\"\\t\", names=[\"user_id\", \"item_id\", \"rating\", \"timestamp\"])\n",
    "\n",
    "item = pd.read_csv(\"u.item\", sep=\"|\", encoding=\"latin-1\", header=None, \n",
    "                   names=[\"movie_id\", \"title\", \"release_date\", \"video_release_date\", \"IMDb_URL\"] + \n",
    "                   [f\"genre_{i}\" for i in range(19)])\n",
    "\n",
    "user = pd.read_csv(\"u.user\", sep=\"|\", names=[\"user_id\", \"age\", \"gender\", \"occupation\", \"zip_code\"])\n"
   ]
  },
  {
   "cell_type": "markdown",
   "metadata": {},
   "source": [
    "Handling missing values"
   ]
  },
  {
   "cell_type": "code",
   "execution_count": 9,
   "metadata": {},
   "outputs": [
    {
     "data": {
      "text/plain": [
       "user_id      0\n",
       "item_id      0\n",
       "rating       0\n",
       "timestamp    0\n",
       "dtype: int64"
      ]
     },
     "execution_count": 9,
     "metadata": {},
     "output_type": "execute_result"
    }
   ],
   "source": [
    "data.isnull().sum()\n"
   ]
  },
  {
   "cell_type": "code",
   "execution_count": 10,
   "metadata": {},
   "outputs": [
    {
     "data": {
      "text/plain": [
       "movie_id                 0\n",
       "title                    0\n",
       "release_date             1\n",
       "video_release_date    1682\n",
       "IMDb_URL                 3\n",
       "genre_0                  0\n",
       "genre_1                  0\n",
       "genre_2                  0\n",
       "genre_3                  0\n",
       "genre_4                  0\n",
       "genre_5                  0\n",
       "genre_6                  0\n",
       "genre_7                  0\n",
       "genre_8                  0\n",
       "genre_9                  0\n",
       "genre_10                 0\n",
       "genre_11                 0\n",
       "genre_12                 0\n",
       "genre_13                 0\n",
       "genre_14                 0\n",
       "genre_15                 0\n",
       "genre_16                 0\n",
       "genre_17                 0\n",
       "genre_18                 0\n",
       "dtype: int64"
      ]
     },
     "execution_count": 10,
     "metadata": {},
     "output_type": "execute_result"
    }
   ],
   "source": [
    "item.isnull().sum()"
   ]
  },
  {
   "cell_type": "code",
   "execution_count": 11,
   "metadata": {},
   "outputs": [
    {
     "name": "stdout",
     "output_type": "stream",
     "text": [
      "Index(['movie_id', 'title', 'release_date', 'video_release_date', 'IMDb_URL',\n",
      "       'genre_0', 'genre_1', 'genre_2', 'genre_3', 'genre_4', 'genre_5',\n",
      "       'genre_6', 'genre_7', 'genre_8', 'genre_9', 'genre_10', 'genre_11',\n",
      "       'genre_12', 'genre_13', 'genre_14', 'genre_15', 'genre_16', 'genre_17',\n",
      "       'genre_18'],\n",
      "      dtype='object')\n"
     ]
    }
   ],
   "source": [
    "print(item.columns)\n"
   ]
  },
  {
   "cell_type": "code",
   "execution_count": 12,
   "metadata": {},
   "outputs": [],
   "source": [
    "item.drop(columns=[\"video_release_date\"], inplace=True)\n"
   ]
  },
  {
   "cell_type": "code",
   "execution_count": 13,
   "metadata": {},
   "outputs": [
    {
     "data": {
      "text/plain": [
       "movie_id        0\n",
       "title           0\n",
       "release_date    1\n",
       "IMDb_URL        3\n",
       "genre_0         0\n",
       "genre_1         0\n",
       "genre_2         0\n",
       "genre_3         0\n",
       "genre_4         0\n",
       "genre_5         0\n",
       "genre_6         0\n",
       "genre_7         0\n",
       "genre_8         0\n",
       "genre_9         0\n",
       "genre_10        0\n",
       "genre_11        0\n",
       "genre_12        0\n",
       "genre_13        0\n",
       "genre_14        0\n",
       "genre_15        0\n",
       "genre_16        0\n",
       "genre_17        0\n",
       "genre_18        0\n",
       "dtype: int64"
      ]
     },
     "execution_count": 13,
     "metadata": {},
     "output_type": "execute_result"
    }
   ],
   "source": [
    "item.isnull().sum()"
   ]
  },
  {
   "cell_type": "code",
   "execution_count": 14,
   "metadata": {},
   "outputs": [
    {
     "name": "stdout",
     "output_type": "stream",
     "text": [
      "1996\n"
     ]
    }
   ],
   "source": [
    "most_common_year = item[\"release_date\"].str[-4:].mode()[0]  \n",
    "print(most_common_year)\n",
    "item.fillna({\"release_date\": f\"{most_common_year}-01-01\"}, inplace=True)\n",
    "\n"
   ]
  },
  {
   "cell_type": "code",
   "execution_count": 16,
   "metadata": {},
   "outputs": [
    {
     "data": {
      "text/plain": [
       "movie_id        0\n",
       "title           0\n",
       "release_date    0\n",
       "IMDb_URL        3\n",
       "genre_0         0\n",
       "genre_1         0\n",
       "genre_2         0\n",
       "genre_3         0\n",
       "genre_4         0\n",
       "genre_5         0\n",
       "genre_6         0\n",
       "genre_7         0\n",
       "genre_8         0\n",
       "genre_9         0\n",
       "genre_10        0\n",
       "genre_11        0\n",
       "genre_12        0\n",
       "genre_13        0\n",
       "genre_14        0\n",
       "genre_15        0\n",
       "genre_16        0\n",
       "genre_17        0\n",
       "genre_18        0\n",
       "dtype: int64"
      ]
     },
     "execution_count": 16,
     "metadata": {},
     "output_type": "execute_result"
    }
   ],
   "source": [
    "item.isnull().sum()"
   ]
  },
  {
   "cell_type": "code",
   "execution_count": 17,
   "metadata": {},
   "outputs": [
    {
     "name": "stdout",
     "output_type": "stream",
     "text": [
      "http://us.imdb.com/M/title-exact?Body%20Snatchers%20(1993)\n"
     ]
    },
    {
     "name": "stderr",
     "output_type": "stream",
     "text": [
      "C:\\Users\\alaa_\\AppData\\Local\\Temp\\ipykernel_12384\\961786888.py:3: FutureWarning: A value is trying to be set on a copy of a DataFrame or Series through chained assignment using an inplace method.\n",
      "The behavior will change in pandas 3.0. This inplace method will never work because the intermediate object on which we are setting values always behaves as a copy.\n",
      "\n",
      "For example, when doing 'df[col].method(value, inplace=True)', try using 'df.method({col: value}, inplace=True)' or df[col] = df[col].method(value) instead, to perform the operation inplace on the original object.\n",
      "\n",
      "\n",
      "  item[\"IMDb_URL\"].fillna(most_common_url, inplace=True)\n"
     ]
    }
   ],
   "source": [
    "most_common_url=item[\"IMDb_URL\"].mode()[0]\n",
    "print(most_common_url)\n",
    "item[\"IMDb_URL\"].fillna(most_common_url, inplace=True)\n"
   ]
  },
  {
   "cell_type": "code",
   "execution_count": 18,
   "metadata": {},
   "outputs": [
    {
     "data": {
      "text/plain": [
       "movie_id        0\n",
       "title           0\n",
       "release_date    0\n",
       "IMDb_URL        0\n",
       "genre_0         0\n",
       "genre_1         0\n",
       "genre_2         0\n",
       "genre_3         0\n",
       "genre_4         0\n",
       "genre_5         0\n",
       "genre_6         0\n",
       "genre_7         0\n",
       "genre_8         0\n",
       "genre_9         0\n",
       "genre_10        0\n",
       "genre_11        0\n",
       "genre_12        0\n",
       "genre_13        0\n",
       "genre_14        0\n",
       "genre_15        0\n",
       "genre_16        0\n",
       "genre_17        0\n",
       "genre_18        0\n",
       "dtype: int64"
      ]
     },
     "execution_count": 18,
     "metadata": {},
     "output_type": "execute_result"
    }
   ],
   "source": [
    "item.isnull().sum()"
   ]
  },
  {
   "cell_type": "code",
   "execution_count": 19,
   "metadata": {},
   "outputs": [
    {
     "data": {
      "text/plain": [
       "user_id       0\n",
       "age           0\n",
       "gender        0\n",
       "occupation    0\n",
       "zip_code      0\n",
       "dtype: int64"
      ]
     },
     "execution_count": 19,
     "metadata": {},
     "output_type": "execute_result"
    }
   ],
   "source": [
    "user.isnull().sum()"
   ]
  },
  {
   "cell_type": "markdown",
   "metadata": {},
   "source": [
    "Data types and Summary statistics"
   ]
  },
  {
   "cell_type": "code",
   "execution_count": 20,
   "metadata": {},
   "outputs": [
    {
     "data": {
      "text/html": [
       "<div>\n",
       "<style scoped>\n",
       "    .dataframe tbody tr th:only-of-type {\n",
       "        vertical-align: middle;\n",
       "    }\n",
       "\n",
       "    .dataframe tbody tr th {\n",
       "        vertical-align: top;\n",
       "    }\n",
       "\n",
       "    .dataframe thead th {\n",
       "        text-align: right;\n",
       "    }\n",
       "</style>\n",
       "<table border=\"1\" class=\"dataframe\">\n",
       "  <thead>\n",
       "    <tr style=\"text-align: right;\">\n",
       "      <th></th>\n",
       "      <th>count</th>\n",
       "      <th>mean</th>\n",
       "      <th>std</th>\n",
       "      <th>min</th>\n",
       "      <th>25%</th>\n",
       "      <th>50%</th>\n",
       "      <th>75%</th>\n",
       "      <th>max</th>\n",
       "    </tr>\n",
       "  </thead>\n",
       "  <tbody>\n",
       "    <tr>\n",
       "      <th>user_id</th>\n",
       "      <td>100000.0</td>\n",
       "      <td>4.624848e+02</td>\n",
       "      <td>2.666144e+02</td>\n",
       "      <td>1.0</td>\n",
       "      <td>254.0</td>\n",
       "      <td>447.0</td>\n",
       "      <td>682.0</td>\n",
       "      <td>943.0</td>\n",
       "    </tr>\n",
       "    <tr>\n",
       "      <th>item_id</th>\n",
       "      <td>100000.0</td>\n",
       "      <td>4.255301e+02</td>\n",
       "      <td>3.307984e+02</td>\n",
       "      <td>1.0</td>\n",
       "      <td>175.0</td>\n",
       "      <td>322.0</td>\n",
       "      <td>631.0</td>\n",
       "      <td>1682.0</td>\n",
       "    </tr>\n",
       "    <tr>\n",
       "      <th>rating</th>\n",
       "      <td>100000.0</td>\n",
       "      <td>3.529860e+00</td>\n",
       "      <td>1.125674e+00</td>\n",
       "      <td>1.0</td>\n",
       "      <td>3.0</td>\n",
       "      <td>4.0</td>\n",
       "      <td>4.0</td>\n",
       "      <td>5.0</td>\n",
       "    </tr>\n",
       "    <tr>\n",
       "      <th>timestamp</th>\n",
       "      <td>100000.0</td>\n",
       "      <td>8.835289e+08</td>\n",
       "      <td>5.343856e+06</td>\n",
       "      <td>874724710.0</td>\n",
       "      <td>879448709.5</td>\n",
       "      <td>882826944.0</td>\n",
       "      <td>888259984.0</td>\n",
       "      <td>893286638.0</td>\n",
       "    </tr>\n",
       "  </tbody>\n",
       "</table>\n",
       "</div>"
      ],
      "text/plain": [
       "              count          mean           std          min          25%  \\\n",
       "user_id    100000.0  4.624848e+02  2.666144e+02          1.0        254.0   \n",
       "item_id    100000.0  4.255301e+02  3.307984e+02          1.0        175.0   \n",
       "rating     100000.0  3.529860e+00  1.125674e+00          1.0          3.0   \n",
       "timestamp  100000.0  8.835289e+08  5.343856e+06  874724710.0  879448709.5   \n",
       "\n",
       "                   50%          75%          max  \n",
       "user_id          447.0        682.0        943.0  \n",
       "item_id          322.0        631.0       1682.0  \n",
       "rating             4.0          4.0          5.0  \n",
       "timestamp  882826944.0  888259984.0  893286638.0  "
      ]
     },
     "execution_count": 20,
     "metadata": {},
     "output_type": "execute_result"
    }
   ],
   "source": [
    "data.describe().T"
   ]
  },
  {
   "cell_type": "code",
   "execution_count": 21,
   "metadata": {},
   "outputs": [
    {
     "data": {
      "text/html": [
       "<div>\n",
       "<style scoped>\n",
       "    .dataframe tbody tr th:only-of-type {\n",
       "        vertical-align: middle;\n",
       "    }\n",
       "\n",
       "    .dataframe tbody tr th {\n",
       "        vertical-align: top;\n",
       "    }\n",
       "\n",
       "    .dataframe thead th {\n",
       "        text-align: right;\n",
       "    }\n",
       "</style>\n",
       "<table border=\"1\" class=\"dataframe\">\n",
       "  <thead>\n",
       "    <tr style=\"text-align: right;\">\n",
       "      <th></th>\n",
       "      <th>count</th>\n",
       "      <th>mean</th>\n",
       "      <th>std</th>\n",
       "      <th>min</th>\n",
       "      <th>25%</th>\n",
       "      <th>50%</th>\n",
       "      <th>75%</th>\n",
       "      <th>max</th>\n",
       "    </tr>\n",
       "  </thead>\n",
       "  <tbody>\n",
       "    <tr>\n",
       "      <th>user_id</th>\n",
       "      <td>943.0</td>\n",
       "      <td>472.000000</td>\n",
       "      <td>272.364951</td>\n",
       "      <td>1.0</td>\n",
       "      <td>236.5</td>\n",
       "      <td>472.0</td>\n",
       "      <td>707.5</td>\n",
       "      <td>943.0</td>\n",
       "    </tr>\n",
       "    <tr>\n",
       "      <th>age</th>\n",
       "      <td>943.0</td>\n",
       "      <td>34.051962</td>\n",
       "      <td>12.192740</td>\n",
       "      <td>7.0</td>\n",
       "      <td>25.0</td>\n",
       "      <td>31.0</td>\n",
       "      <td>43.0</td>\n",
       "      <td>73.0</td>\n",
       "    </tr>\n",
       "  </tbody>\n",
       "</table>\n",
       "</div>"
      ],
      "text/plain": [
       "         count        mean         std  min    25%    50%    75%    max\n",
       "user_id  943.0  472.000000  272.364951  1.0  236.5  472.0  707.5  943.0\n",
       "age      943.0   34.051962   12.192740  7.0   25.0   31.0   43.0   73.0"
      ]
     },
     "execution_count": 21,
     "metadata": {},
     "output_type": "execute_result"
    }
   ],
   "source": [
    "user.describe().T"
   ]
  },
  {
   "cell_type": "code",
   "execution_count": 22,
   "metadata": {},
   "outputs": [
    {
     "data": {
      "text/html": [
       "<div>\n",
       "<style scoped>\n",
       "    .dataframe tbody tr th:only-of-type {\n",
       "        vertical-align: middle;\n",
       "    }\n",
       "\n",
       "    .dataframe tbody tr th {\n",
       "        vertical-align: top;\n",
       "    }\n",
       "\n",
       "    .dataframe thead th {\n",
       "        text-align: right;\n",
       "    }\n",
       "</style>\n",
       "<table border=\"1\" class=\"dataframe\">\n",
       "  <thead>\n",
       "    <tr style=\"text-align: right;\">\n",
       "      <th></th>\n",
       "      <th>count</th>\n",
       "      <th>mean</th>\n",
       "      <th>std</th>\n",
       "      <th>min</th>\n",
       "      <th>25%</th>\n",
       "      <th>50%</th>\n",
       "      <th>75%</th>\n",
       "      <th>max</th>\n",
       "    </tr>\n",
       "  </thead>\n",
       "  <tbody>\n",
       "    <tr>\n",
       "      <th>movie_id</th>\n",
       "      <td>1682.0</td>\n",
       "      <td>841.500000</td>\n",
       "      <td>485.695893</td>\n",
       "      <td>1.0</td>\n",
       "      <td>421.25</td>\n",
       "      <td>841.5</td>\n",
       "      <td>1261.75</td>\n",
       "      <td>1682.0</td>\n",
       "    </tr>\n",
       "    <tr>\n",
       "      <th>genre_0</th>\n",
       "      <td>1682.0</td>\n",
       "      <td>0.001189</td>\n",
       "      <td>0.034473</td>\n",
       "      <td>0.0</td>\n",
       "      <td>0.00</td>\n",
       "      <td>0.0</td>\n",
       "      <td>0.00</td>\n",
       "      <td>1.0</td>\n",
       "    </tr>\n",
       "    <tr>\n",
       "      <th>genre_1</th>\n",
       "      <td>1682.0</td>\n",
       "      <td>0.149227</td>\n",
       "      <td>0.356418</td>\n",
       "      <td>0.0</td>\n",
       "      <td>0.00</td>\n",
       "      <td>0.0</td>\n",
       "      <td>0.00</td>\n",
       "      <td>1.0</td>\n",
       "    </tr>\n",
       "    <tr>\n",
       "      <th>genre_2</th>\n",
       "      <td>1682.0</td>\n",
       "      <td>0.080262</td>\n",
       "      <td>0.271779</td>\n",
       "      <td>0.0</td>\n",
       "      <td>0.00</td>\n",
       "      <td>0.0</td>\n",
       "      <td>0.00</td>\n",
       "      <td>1.0</td>\n",
       "    </tr>\n",
       "    <tr>\n",
       "      <th>genre_3</th>\n",
       "      <td>1682.0</td>\n",
       "      <td>0.024970</td>\n",
       "      <td>0.156081</td>\n",
       "      <td>0.0</td>\n",
       "      <td>0.00</td>\n",
       "      <td>0.0</td>\n",
       "      <td>0.00</td>\n",
       "      <td>1.0</td>\n",
       "    </tr>\n",
       "    <tr>\n",
       "      <th>genre_4</th>\n",
       "      <td>1682.0</td>\n",
       "      <td>0.072533</td>\n",
       "      <td>0.259445</td>\n",
       "      <td>0.0</td>\n",
       "      <td>0.00</td>\n",
       "      <td>0.0</td>\n",
       "      <td>0.00</td>\n",
       "      <td>1.0</td>\n",
       "    </tr>\n",
       "    <tr>\n",
       "      <th>genre_5</th>\n",
       "      <td>1682.0</td>\n",
       "      <td>0.300238</td>\n",
       "      <td>0.458498</td>\n",
       "      <td>0.0</td>\n",
       "      <td>0.00</td>\n",
       "      <td>0.0</td>\n",
       "      <td>1.00</td>\n",
       "      <td>1.0</td>\n",
       "    </tr>\n",
       "    <tr>\n",
       "      <th>genre_6</th>\n",
       "      <td>1682.0</td>\n",
       "      <td>0.064804</td>\n",
       "      <td>0.246253</td>\n",
       "      <td>0.0</td>\n",
       "      <td>0.00</td>\n",
       "      <td>0.0</td>\n",
       "      <td>0.00</td>\n",
       "      <td>1.0</td>\n",
       "    </tr>\n",
       "    <tr>\n",
       "      <th>genre_7</th>\n",
       "      <td>1682.0</td>\n",
       "      <td>0.029727</td>\n",
       "      <td>0.169882</td>\n",
       "      <td>0.0</td>\n",
       "      <td>0.00</td>\n",
       "      <td>0.0</td>\n",
       "      <td>0.00</td>\n",
       "      <td>1.0</td>\n",
       "    </tr>\n",
       "    <tr>\n",
       "      <th>genre_8</th>\n",
       "      <td>1682.0</td>\n",
       "      <td>0.431034</td>\n",
       "      <td>0.495368</td>\n",
       "      <td>0.0</td>\n",
       "      <td>0.00</td>\n",
       "      <td>0.0</td>\n",
       "      <td>1.00</td>\n",
       "      <td>1.0</td>\n",
       "    </tr>\n",
       "    <tr>\n",
       "      <th>genre_9</th>\n",
       "      <td>1682.0</td>\n",
       "      <td>0.013080</td>\n",
       "      <td>0.113650</td>\n",
       "      <td>0.0</td>\n",
       "      <td>0.00</td>\n",
       "      <td>0.0</td>\n",
       "      <td>0.00</td>\n",
       "      <td>1.0</td>\n",
       "    </tr>\n",
       "    <tr>\n",
       "      <th>genre_10</th>\n",
       "      <td>1682.0</td>\n",
       "      <td>0.014269</td>\n",
       "      <td>0.118632</td>\n",
       "      <td>0.0</td>\n",
       "      <td>0.00</td>\n",
       "      <td>0.0</td>\n",
       "      <td>0.00</td>\n",
       "      <td>1.0</td>\n",
       "    </tr>\n",
       "    <tr>\n",
       "      <th>genre_11</th>\n",
       "      <td>1682.0</td>\n",
       "      <td>0.054697</td>\n",
       "      <td>0.227455</td>\n",
       "      <td>0.0</td>\n",
       "      <td>0.00</td>\n",
       "      <td>0.0</td>\n",
       "      <td>0.00</td>\n",
       "      <td>1.0</td>\n",
       "    </tr>\n",
       "    <tr>\n",
       "      <th>genre_12</th>\n",
       "      <td>1682.0</td>\n",
       "      <td>0.033294</td>\n",
       "      <td>0.179456</td>\n",
       "      <td>0.0</td>\n",
       "      <td>0.00</td>\n",
       "      <td>0.0</td>\n",
       "      <td>0.00</td>\n",
       "      <td>1.0</td>\n",
       "    </tr>\n",
       "    <tr>\n",
       "      <th>genre_13</th>\n",
       "      <td>1682.0</td>\n",
       "      <td>0.036266</td>\n",
       "      <td>0.187008</td>\n",
       "      <td>0.0</td>\n",
       "      <td>0.00</td>\n",
       "      <td>0.0</td>\n",
       "      <td>0.00</td>\n",
       "      <td>1.0</td>\n",
       "    </tr>\n",
       "    <tr>\n",
       "      <th>genre_14</th>\n",
       "      <td>1682.0</td>\n",
       "      <td>0.146849</td>\n",
       "      <td>0.354061</td>\n",
       "      <td>0.0</td>\n",
       "      <td>0.00</td>\n",
       "      <td>0.0</td>\n",
       "      <td>0.00</td>\n",
       "      <td>1.0</td>\n",
       "    </tr>\n",
       "    <tr>\n",
       "      <th>genre_15</th>\n",
       "      <td>1682.0</td>\n",
       "      <td>0.060048</td>\n",
       "      <td>0.237646</td>\n",
       "      <td>0.0</td>\n",
       "      <td>0.00</td>\n",
       "      <td>0.0</td>\n",
       "      <td>0.00</td>\n",
       "      <td>1.0</td>\n",
       "    </tr>\n",
       "    <tr>\n",
       "      <th>genre_16</th>\n",
       "      <td>1682.0</td>\n",
       "      <td>0.149227</td>\n",
       "      <td>0.356418</td>\n",
       "      <td>0.0</td>\n",
       "      <td>0.00</td>\n",
       "      <td>0.0</td>\n",
       "      <td>0.00</td>\n",
       "      <td>1.0</td>\n",
       "    </tr>\n",
       "    <tr>\n",
       "      <th>genre_17</th>\n",
       "      <td>1682.0</td>\n",
       "      <td>0.042212</td>\n",
       "      <td>0.201131</td>\n",
       "      <td>0.0</td>\n",
       "      <td>0.00</td>\n",
       "      <td>0.0</td>\n",
       "      <td>0.00</td>\n",
       "      <td>1.0</td>\n",
       "    </tr>\n",
       "    <tr>\n",
       "      <th>genre_18</th>\n",
       "      <td>1682.0</td>\n",
       "      <td>0.016052</td>\n",
       "      <td>0.125714</td>\n",
       "      <td>0.0</td>\n",
       "      <td>0.00</td>\n",
       "      <td>0.0</td>\n",
       "      <td>0.00</td>\n",
       "      <td>1.0</td>\n",
       "    </tr>\n",
       "  </tbody>\n",
       "</table>\n",
       "</div>"
      ],
      "text/plain": [
       "           count        mean         std  min     25%    50%      75%     max\n",
       "movie_id  1682.0  841.500000  485.695893  1.0  421.25  841.5  1261.75  1682.0\n",
       "genre_0   1682.0    0.001189    0.034473  0.0    0.00    0.0     0.00     1.0\n",
       "genre_1   1682.0    0.149227    0.356418  0.0    0.00    0.0     0.00     1.0\n",
       "genre_2   1682.0    0.080262    0.271779  0.0    0.00    0.0     0.00     1.0\n",
       "genre_3   1682.0    0.024970    0.156081  0.0    0.00    0.0     0.00     1.0\n",
       "genre_4   1682.0    0.072533    0.259445  0.0    0.00    0.0     0.00     1.0\n",
       "genre_5   1682.0    0.300238    0.458498  0.0    0.00    0.0     1.00     1.0\n",
       "genre_6   1682.0    0.064804    0.246253  0.0    0.00    0.0     0.00     1.0\n",
       "genre_7   1682.0    0.029727    0.169882  0.0    0.00    0.0     0.00     1.0\n",
       "genre_8   1682.0    0.431034    0.495368  0.0    0.00    0.0     1.00     1.0\n",
       "genre_9   1682.0    0.013080    0.113650  0.0    0.00    0.0     0.00     1.0\n",
       "genre_10  1682.0    0.014269    0.118632  0.0    0.00    0.0     0.00     1.0\n",
       "genre_11  1682.0    0.054697    0.227455  0.0    0.00    0.0     0.00     1.0\n",
       "genre_12  1682.0    0.033294    0.179456  0.0    0.00    0.0     0.00     1.0\n",
       "genre_13  1682.0    0.036266    0.187008  0.0    0.00    0.0     0.00     1.0\n",
       "genre_14  1682.0    0.146849    0.354061  0.0    0.00    0.0     0.00     1.0\n",
       "genre_15  1682.0    0.060048    0.237646  0.0    0.00    0.0     0.00     1.0\n",
       "genre_16  1682.0    0.149227    0.356418  0.0    0.00    0.0     0.00     1.0\n",
       "genre_17  1682.0    0.042212    0.201131  0.0    0.00    0.0     0.00     1.0\n",
       "genre_18  1682.0    0.016052    0.125714  0.0    0.00    0.0     0.00     1.0"
      ]
     },
     "execution_count": 22,
     "metadata": {},
     "output_type": "execute_result"
    }
   ],
   "source": [
    "item.describe().T"
   ]
  },
  {
   "cell_type": "code",
   "execution_count": 23,
   "metadata": {},
   "outputs": [
    {
     "name": "stdout",
     "output_type": "stream",
     "text": [
      "movie_id         int64\n",
      "title           object\n",
      "release_date    object\n",
      "IMDb_URL        object\n",
      "genre_0          int64\n",
      "genre_1          int64\n",
      "genre_2          int64\n",
      "genre_3          int64\n",
      "genre_4          int64\n",
      "genre_5          int64\n",
      "genre_6          int64\n",
      "genre_7          int64\n",
      "genre_8          int64\n",
      "genre_9          int64\n",
      "genre_10         int64\n",
      "genre_11         int64\n",
      "genre_12         int64\n",
      "genre_13         int64\n",
      "genre_14         int64\n",
      "genre_15         int64\n",
      "genre_16         int64\n",
      "genre_17         int64\n",
      "genre_18         int64\n",
      "dtype: object\n"
     ]
    }
   ],
   "source": [
    "print(item.dtypes)"
   ]
  },
  {
   "cell_type": "code",
   "execution_count": 24,
   "metadata": {},
   "outputs": [
    {
     "name": "stdout",
     "output_type": "stream",
     "text": [
      "user_id        int64\n",
      "age            int64\n",
      "gender        object\n",
      "occupation    object\n",
      "zip_code      object\n",
      "dtype: object\n"
     ]
    }
   ],
   "source": [
    "print(user.dtypes)"
   ]
  },
  {
   "cell_type": "code",
   "execution_count": 25,
   "metadata": {},
   "outputs": [
    {
     "name": "stdout",
     "output_type": "stream",
     "text": [
      "user_id      int64\n",
      "item_id      int64\n",
      "rating       int64\n",
      "timestamp    int64\n",
      "dtype: object\n"
     ]
    }
   ],
   "source": [
    "print(data.dtypes)"
   ]
  },
  {
   "cell_type": "markdown",
   "metadata": {},
   "source": [
    "Convert the data into a User-Item Interaction Matrix (rows = users, columns =\n",
    "movies, values = ratings)"
   ]
  },
  {
   "cell_type": "code",
   "execution_count": 107,
   "metadata": {},
   "outputs": [],
   "source": [
    "user_item_matrix = data.pivot(index=\"user_id\", columns=\"item_id\", values=\"rating\")"
   ]
  },
  {
   "cell_type": "code",
   "execution_count": 108,
   "metadata": {},
   "outputs": [
    {
     "name": "stdout",
     "output_type": "stream",
     "text": [
      "item_id  1     2     3     4     5     6     7     8     9     10    ...  \\\n",
      "user_id                                                              ...   \n",
      "1         5.0   3.0   4.0   3.0   3.0   5.0   4.0   1.0   5.0   3.0  ...   \n",
      "2         4.0   NaN   NaN   NaN   NaN   NaN   NaN   NaN   NaN   2.0  ...   \n",
      "3         NaN   NaN   NaN   NaN   NaN   NaN   NaN   NaN   NaN   NaN  ...   \n",
      "4         NaN   NaN   NaN   NaN   NaN   NaN   NaN   NaN   NaN   NaN  ...   \n",
      "5         4.0   3.0   NaN   NaN   NaN   NaN   NaN   NaN   NaN   NaN  ...   \n",
      "\n",
      "item_id  1673  1674  1675  1676  1677  1678  1679  1680  1681  1682  \n",
      "user_id                                                              \n",
      "1         NaN   NaN   NaN   NaN   NaN   NaN   NaN   NaN   NaN   NaN  \n",
      "2         NaN   NaN   NaN   NaN   NaN   NaN   NaN   NaN   NaN   NaN  \n",
      "3         NaN   NaN   NaN   NaN   NaN   NaN   NaN   NaN   NaN   NaN  \n",
      "4         NaN   NaN   NaN   NaN   NaN   NaN   NaN   NaN   NaN   NaN  \n",
      "5         NaN   NaN   NaN   NaN   NaN   NaN   NaN   NaN   NaN   NaN  \n",
      "\n",
      "[5 rows x 1682 columns]\n"
     ]
    }
   ],
   "source": [
    "print(user_item_matrix.head())"
   ]
  },
  {
   "cell_type": "markdown",
   "metadata": {},
   "source": [
    "Handling missing values"
   ]
  },
  {
   "cell_type": "markdown",
   "metadata": {},
   "source": [
    "Noramlize the ratings to ensure fair comparisons"
   ]
  },
  {
   "cell_type": "code",
   "execution_count": 105,
   "metadata": {},
   "outputs": [],
   "source": [
    "normalized_user_item_matrix = (user_item_matrix - user_item_matrix.mean()) / user_item_matrix.std()\n"
   ]
  },
  {
   "cell_type": "code",
   "execution_count": 106,
   "metadata": {},
   "outputs": [
    {
     "name": "stdout",
     "output_type": "stream",
     "text": [
      "item_id      1         2             3             4             5     \\\n",
      "user_id                                                                 \n",
      "1        1.747057 -0.574045  2.593178e+00 -1.213352e+00 -1.063397e+00   \n",
      "2        0.189523  0.000000  1.191313e-15 -1.958554e-15 -1.562034e-15   \n",
      "3        0.000000  0.000000  1.191313e-15 -1.958554e-15 -1.562034e-15   \n",
      "4        0.000000  0.000000  1.191313e-15 -1.958554e-15 -1.562034e-15   \n",
      "5        0.189523 -0.574045  1.191313e-15 -1.958554e-15 -1.562034e-15   \n",
      "\n",
      "item_id          6             7             8             9             10    \\\n",
      "user_id                                                                         \n",
      "1        6.711921e+00  3.185299e-01 -6.212518e+00  1.882518e+00 -2.682936e+00   \n",
      "2       -6.283620e-15 -1.403814e-15 -1.842079e-15 -7.574722e-16 -5.909710e+00   \n",
      "3       -6.283620e-15 -1.403814e-15 -1.842079e-15 -7.574722e-16 -1.432976e-15   \n",
      "4       -6.283620e-15 -1.403814e-15 -1.842079e-15 -7.574722e-16 -1.432976e-15   \n",
      "5       -6.283620e-15 -1.403814e-15 -1.842079e-15 -7.574722e-16 -1.432976e-15   \n",
      "\n",
      "item_id  ...  1673  1674  1675  1676  1677  1678  1679  1680  1681  1682  \n",
      "user_id  ...                                                              \n",
      "1        ...   NaN   NaN   NaN   NaN   NaN   NaN   NaN   NaN   NaN   NaN  \n",
      "2        ...   NaN   NaN   NaN   NaN   NaN   NaN   NaN   NaN   NaN   NaN  \n",
      "3        ...   NaN   NaN   NaN   NaN   NaN   NaN   NaN   NaN   NaN   NaN  \n",
      "4        ...   NaN   NaN   NaN   NaN   NaN   NaN   NaN   NaN   NaN   NaN  \n",
      "5        ...   NaN   NaN   NaN   NaN   NaN   NaN   NaN   NaN   NaN   NaN  \n",
      "\n",
      "[5 rows x 1682 columns]\n"
     ]
    }
   ],
   "source": [
    "print(normalized_user_item_matrix.head())"
   ]
  },
  {
   "cell_type": "markdown",
   "metadata": {},
   "source": [
    "KNN Algorithm for recommentations"
   ]
  },
  {
   "cell_type": "code",
   "execution_count": 105,
   "metadata": {},
   "outputs": [
    {
     "name": "stdout",
     "output_type": "stream",
     "text": [
      "Collecting scikit-learn\n",
      "  Downloading scikit_learn-1.6.1-cp313-cp313-win_amd64.whl.metadata (15 kB)\n",
      "Requirement already satisfied: numpy>=1.19.5 in c:\\users\\alaa_\\appdata\\local\\programs\\python\\python313\\lib\\site-packages (from scikit-learn) (2.2.3)\n",
      "Collecting scipy>=1.6.0 (from scikit-learn)\n",
      "  Downloading scipy-1.15.2-cp313-cp313-win_amd64.whl.metadata (60 kB)\n",
      "Collecting joblib>=1.2.0 (from scikit-learn)\n",
      "  Downloading joblib-1.4.2-py3-none-any.whl.metadata (5.4 kB)\n",
      "Collecting threadpoolctl>=3.1.0 (from scikit-learn)\n",
      "  Downloading threadpoolctl-3.6.0-py3-none-any.whl.metadata (13 kB)\n",
      "Downloading scikit_learn-1.6.1-cp313-cp313-win_amd64.whl (11.1 MB)\n",
      "   ---------------------------------------- 0.0/11.1 MB ? eta -:--:--\n",
      "    --------------------------------------- 0.3/11.1 MB ? eta -:--:--\n",
      "   -- ------------------------------------- 0.8/11.1 MB 2.0 MB/s eta 0:00:06\n",
      "   ----- ---------------------------------- 1.6/11.1 MB 2.9 MB/s eta 0:00:04\n",
      "   ------- -------------------------------- 2.1/11.1 MB 2.9 MB/s eta 0:00:04\n",
      "   --------- ------------------------------ 2.6/11.1 MB 2.9 MB/s eta 0:00:03\n",
      "   ------------ --------------------------- 3.4/11.1 MB 2.9 MB/s eta 0:00:03\n",
      "   -------------- ------------------------- 3.9/11.1 MB 2.9 MB/s eta 0:00:03\n",
      "   ---------------- ----------------------- 4.5/11.1 MB 2.9 MB/s eta 0:00:03\n",
      "   ------------------ --------------------- 5.2/11.1 MB 2.9 MB/s eta 0:00:03\n",
      "   -------------------- ------------------- 5.8/11.1 MB 2.9 MB/s eta 0:00:02\n",
      "   ---------------------- ----------------- 6.3/11.1 MB 2.9 MB/s eta 0:00:02\n",
      "   ------------------------- -------------- 7.1/11.1 MB 2.9 MB/s eta 0:00:02\n",
      "   --------------------------- ------------ 7.6/11.1 MB 2.9 MB/s eta 0:00:02\n",
      "   ----------------------------- ---------- 8.1/11.1 MB 2.9 MB/s eta 0:00:02\n",
      "   ------------------------------- -------- 8.7/11.1 MB 2.9 MB/s eta 0:00:01\n",
      "   --------------------------------- ------ 9.2/11.1 MB 2.8 MB/s eta 0:00:01\n",
      "   ---------------------------------- ----- 9.4/11.1 MB 2.8 MB/s eta 0:00:01\n",
      "   ---------------------------------- ----- 9.4/11.1 MB 2.8 MB/s eta 0:00:01\n",
      "   ----------------------------------- ---- 9.7/11.1 MB 2.5 MB/s eta 0:00:01\n",
      "   ----------------------------------- ---- 9.7/11.1 MB 2.5 MB/s eta 0:00:01\n",
      "   ------------------------------------ --- 10.2/11.1 MB 2.3 MB/s eta 0:00:01\n",
      "   -------------------------------------- - 10.7/11.1 MB 2.3 MB/s eta 0:00:01\n",
      "   ---------------------------------------- 11.1/11.1 MB 2.3 MB/s eta 0:00:00\n",
      "Downloading joblib-1.4.2-py3-none-any.whl (301 kB)\n",
      "Downloading scipy-1.15.2-cp313-cp313-win_amd64.whl (41.0 MB)\n",
      "   ---------------------------------------- 0.0/41.0 MB ? eta -:--:--\n",
      "    --------------------------------------- 0.5/41.0 MB 2.6 MB/s eta 0:00:16\n",
      "   - -------------------------------------- 1.0/41.0 MB 2.5 MB/s eta 0:00:17\n",
      "   - -------------------------------------- 1.6/41.0 MB 2.4 MB/s eta 0:00:17\n",
      "   -- ------------------------------------- 2.1/41.0 MB 2.4 MB/s eta 0:00:17\n",
      "   -- ------------------------------------- 2.6/41.0 MB 2.4 MB/s eta 0:00:16\n",
      "   --- ------------------------------------ 3.1/41.0 MB 2.4 MB/s eta 0:00:16\n",
      "   --- ------------------------------------ 3.7/41.0 MB 2.4 MB/s eta 0:00:16\n",
      "   ---- ----------------------------------- 4.2/41.0 MB 2.4 MB/s eta 0:00:16\n",
      "   ---- ----------------------------------- 5.0/41.0 MB 2.5 MB/s eta 0:00:15\n",
      "   ----- ---------------------------------- 5.5/41.0 MB 2.5 MB/s eta 0:00:15\n",
      "   ----- ---------------------------------- 5.8/41.0 MB 2.5 MB/s eta 0:00:15\n",
      "   ------ --------------------------------- 6.3/41.0 MB 2.4 MB/s eta 0:00:15\n",
      "   ------ --------------------------------- 6.8/41.0 MB 2.4 MB/s eta 0:00:14\n",
      "   ------- -------------------------------- 7.3/41.0 MB 2.4 MB/s eta 0:00:15\n",
      "   ------- -------------------------------- 7.6/41.0 MB 2.3 MB/s eta 0:00:15\n",
      "   ------- -------------------------------- 7.9/41.0 MB 2.3 MB/s eta 0:00:15\n",
      "   -------- ------------------------------- 8.4/41.0 MB 2.3 MB/s eta 0:00:15\n",
      "   -------- ------------------------------- 8.7/41.0 MB 2.3 MB/s eta 0:00:15\n",
      "   -------- ------------------------------- 9.2/41.0 MB 2.2 MB/s eta 0:00:15\n",
      "   --------- ------------------------------ 9.7/41.0 MB 2.2 MB/s eta 0:00:15\n",
      "   --------- ------------------------------ 10.0/41.0 MB 2.2 MB/s eta 0:00:15\n",
      "   --------- ------------------------------ 10.2/41.0 MB 2.2 MB/s eta 0:00:15\n",
      "   ---------- ----------------------------- 10.5/41.0 MB 2.1 MB/s eta 0:00:15\n",
      "   ---------- ----------------------------- 10.7/41.0 MB 2.1 MB/s eta 0:00:15\n",
      "   ---------- ----------------------------- 11.0/41.0 MB 2.0 MB/s eta 0:00:15\n",
      "   ---------- ----------------------------- 11.0/41.0 MB 2.0 MB/s eta 0:00:15\n",
      "   ---------- ----------------------------- 11.0/41.0 MB 2.0 MB/s eta 0:00:15\n",
      "   ---------- ----------------------------- 11.0/41.0 MB 2.0 MB/s eta 0:00:15\n",
      "   ---------- ----------------------------- 11.0/41.0 MB 2.0 MB/s eta 0:00:15\n",
      "   ----------- ---------------------------- 11.3/41.0 MB 1.7 MB/s eta 0:00:18\n",
      "   ----------- ---------------------------- 11.3/41.0 MB 1.7 MB/s eta 0:00:18\n",
      "   ----------- ---------------------------- 11.3/41.0 MB 1.7 MB/s eta 0:00:18\n",
      "   ----------- ---------------------------- 11.3/41.0 MB 1.7 MB/s eta 0:00:18\n",
      "   ----------- ---------------------------- 11.3/41.0 MB 1.7 MB/s eta 0:00:18\n",
      "   ----------- ---------------------------- 11.3/41.0 MB 1.7 MB/s eta 0:00:18\n",
      "   ----------- ---------------------------- 11.3/41.0 MB 1.7 MB/s eta 0:00:18\n",
      "   ----------- ---------------------------- 11.3/41.0 MB 1.7 MB/s eta 0:00:18\n",
      "   ----------- ---------------------------- 11.3/41.0 MB 1.7 MB/s eta 0:00:18\n",
      "   ----------- ---------------------------- 11.5/41.0 MB 1.3 MB/s eta 0:00:22\n",
      "   ----------- ---------------------------- 11.5/41.0 MB 1.3 MB/s eta 0:00:22\n",
      "   ----------- ---------------------------- 11.5/41.0 MB 1.3 MB/s eta 0:00:22\n",
      "   ----------- ---------------------------- 11.8/41.0 MB 1.3 MB/s eta 0:00:23\n",
      "   ----------- ---------------------------- 11.8/41.0 MB 1.3 MB/s eta 0:00:23\n",
      "   ----------- ---------------------------- 12.1/41.0 MB 1.3 MB/s eta 0:00:23\n",
      "   ------------ --------------------------- 12.3/41.0 MB 1.2 MB/s eta 0:00:23\n",
      "   ------------ --------------------------- 12.3/41.0 MB 1.2 MB/s eta 0:00:23\n",
      "   ------------ --------------------------- 12.6/41.0 MB 1.2 MB/s eta 0:00:23\n",
      "   ------------ --------------------------- 12.8/41.0 MB 1.2 MB/s eta 0:00:23\n",
      "   ------------ --------------------------- 13.1/41.0 MB 1.2 MB/s eta 0:00:23\n",
      "   ------------- -------------------------- 13.4/41.0 MB 1.2 MB/s eta 0:00:23\n",
      "   ------------- -------------------------- 13.6/41.0 MB 1.2 MB/s eta 0:00:23\n",
      "   ------------- -------------------------- 13.9/41.0 MB 1.2 MB/s eta 0:00:23\n",
      "   ------------- -------------------------- 14.2/41.0 MB 1.2 MB/s eta 0:00:22\n",
      "   -------------- ------------------------- 14.4/41.0 MB 1.2 MB/s eta 0:00:22\n",
      "   -------------- ------------------------- 14.7/41.0 MB 1.2 MB/s eta 0:00:22\n",
      "   -------------- ------------------------- 14.9/41.0 MB 1.2 MB/s eta 0:00:22\n",
      "   --------------- ------------------------ 15.5/41.0 MB 1.2 MB/s eta 0:00:21\n",
      "   --------------- ------------------------ 15.7/41.0 MB 1.3 MB/s eta 0:00:21\n",
      "   --------------- ------------------------ 16.0/41.0 MB 1.3 MB/s eta 0:00:20\n",
      "   ---------------- ----------------------- 16.5/41.0 MB 1.3 MB/s eta 0:00:20\n",
      "   ---------------- ----------------------- 16.8/41.0 MB 1.3 MB/s eta 0:00:19\n",
      "   ---------------- ----------------------- 17.3/41.0 MB 1.3 MB/s eta 0:00:19\n",
      "   ---------------- ----------------------- 17.3/41.0 MB 1.3 MB/s eta 0:00:19\n",
      "   ----------------- ---------------------- 17.8/41.0 MB 1.3 MB/s eta 0:00:19\n",
      "   ----------------- ---------------------- 18.1/41.0 MB 1.3 MB/s eta 0:00:18\n",
      "   ----------------- ---------------------- 18.4/41.0 MB 1.3 MB/s eta 0:00:18\n",
      "   ------------------ --------------------- 18.6/41.0 MB 1.3 MB/s eta 0:00:18\n",
      "   ------------------ --------------------- 19.1/41.0 MB 1.3 MB/s eta 0:00:17\n",
      "   ------------------ --------------------- 19.4/41.0 MB 1.3 MB/s eta 0:00:17\n",
      "   ------------------- -------------------- 19.9/41.0 MB 1.3 MB/s eta 0:00:16\n",
      "   ------------------- -------------------- 20.2/41.0 MB 1.3 MB/s eta 0:00:16\n",
      "   -------------------- ------------------- 20.7/41.0 MB 1.3 MB/s eta 0:00:16\n",
      "   -------------------- ------------------- 21.0/41.0 MB 1.3 MB/s eta 0:00:15\n",
      "   -------------------- ------------------- 21.5/41.0 MB 1.3 MB/s eta 0:00:15\n",
      "   --------------------- ------------------ 22.0/41.0 MB 1.4 MB/s eta 0:00:14\n",
      "   --------------------- ------------------ 22.3/41.0 MB 1.4 MB/s eta 0:00:14\n",
      "   ---------------------- ----------------- 22.8/41.0 MB 1.4 MB/s eta 0:00:14\n",
      "   ---------------------- ----------------- 23.3/41.0 MB 1.4 MB/s eta 0:00:13\n",
      "   ----------------------- ---------------- 23.6/41.0 MB 1.4 MB/s eta 0:00:13\n",
      "   ----------------------- ---------------- 24.1/41.0 MB 1.4 MB/s eta 0:00:12\n",
      "   ------------------------ --------------- 24.6/41.0 MB 1.4 MB/s eta 0:00:12\n",
      "   ------------------------ --------------- 25.4/41.0 MB 1.4 MB/s eta 0:00:11\n",
      "   ------------------------- -------------- 26.0/41.0 MB 1.5 MB/s eta 0:00:11\n",
      "   ------------------------- -------------- 26.5/41.0 MB 1.5 MB/s eta 0:00:10\n",
      "   -------------------------- ------------- 27.0/41.0 MB 1.5 MB/s eta 0:00:10\n",
      "   -------------------------- ------------- 27.5/41.0 MB 1.5 MB/s eta 0:00:10\n",
      "   --------------------------- ------------ 28.0/41.0 MB 1.5 MB/s eta 0:00:09\n",
      "   --------------------------- ------------ 28.6/41.0 MB 1.5 MB/s eta 0:00:09\n",
      "   ---------------------------- ----------- 29.4/41.0 MB 1.5 MB/s eta 0:00:08\n",
      "   ----------------------------- ---------- 29.9/41.0 MB 1.5 MB/s eta 0:00:08\n",
      "   ----------------------------- ---------- 30.4/41.0 MB 1.6 MB/s eta 0:00:07\n",
      "   ------------------------------ --------- 30.9/41.0 MB 1.6 MB/s eta 0:00:07\n",
      "   ------------------------------ --------- 31.5/41.0 MB 1.6 MB/s eta 0:00:07\n",
      "   ------------------------------ --------- 31.7/41.0 MB 1.6 MB/s eta 0:00:06\n",
      "   ------------------------------- -------- 32.5/41.0 MB 1.6 MB/s eta 0:00:06\n",
      "   -------------------------------- ------- 33.0/41.0 MB 1.6 MB/s eta 0:00:05\n",
      "   -------------------------------- ------- 33.6/41.0 MB 1.6 MB/s eta 0:00:05\n",
      "   --------------------------------- ------ 34.1/41.0 MB 1.6 MB/s eta 0:00:05\n",
      "   ---------------------------------- ----- 34.9/41.0 MB 1.6 MB/s eta 0:00:04\n",
      "   ---------------------------------- ----- 35.4/41.0 MB 1.6 MB/s eta 0:00:04\n",
      "   ----------------------------------- ---- 35.9/41.0 MB 1.7 MB/s eta 0:00:04\n",
      "   ----------------------------------- ---- 36.4/41.0 MB 1.7 MB/s eta 0:00:03\n",
      "   ----------------------------------- ---- 36.7/41.0 MB 1.7 MB/s eta 0:00:03\n",
      "   ------------------------------------ --- 37.0/41.0 MB 1.7 MB/s eta 0:00:03\n",
      "   ------------------------------------ --- 37.5/41.0 MB 1.7 MB/s eta 0:00:03\n",
      "   ------------------------------------ --- 37.7/41.0 MB 1.7 MB/s eta 0:00:02\n",
      "   ------------------------------------- -- 38.0/41.0 MB 1.7 MB/s eta 0:00:02\n",
      "   ------------------------------------- -- 38.3/41.0 MB 1.7 MB/s eta 0:00:02\n",
      "   ------------------------------------- -- 38.8/41.0 MB 1.7 MB/s eta 0:00:02\n",
      "   -------------------------------------- - 39.1/41.0 MB 1.7 MB/s eta 0:00:02\n",
      "   -------------------------------------- - 39.3/41.0 MB 1.7 MB/s eta 0:00:01\n",
      "   -------------------------------------- - 39.8/41.0 MB 1.7 MB/s eta 0:00:01\n",
      "   ---------------------------------------  40.1/41.0 MB 1.7 MB/s eta 0:00:01\n",
      "   ---------------------------------------  40.6/41.0 MB 1.7 MB/s eta 0:00:01\n",
      "   ---------------------------------------  40.9/41.0 MB 1.7 MB/s eta 0:00:01\n",
      "   ---------------------------------------- 41.0/41.0 MB 1.6 MB/s eta 0:00:00\n",
      "Downloading threadpoolctl-3.6.0-py3-none-any.whl (18 kB)\n",
      "Installing collected packages: threadpoolctl, scipy, joblib, scikit-learn\n",
      "Successfully installed joblib-1.4.2 scikit-learn-1.6.1 scipy-1.15.2 threadpoolctl-3.6.0\n",
      "Note: you may need to restart the kernel to use updated packages.\n"
     ]
    },
    {
     "name": "stderr",
     "output_type": "stream",
     "text": [
      "\n",
      "[notice] A new release of pip is available: 24.2 -> 25.0.1\n",
      "[notice] To update, run: python.exe -m pip install --upgrade pip\n"
     ]
    }
   ],
   "source": [
    "pip install scikit-learn\n"
   ]
  },
  {
   "cell_type": "markdown",
   "metadata": {},
   "source": [
    "Use KNN with cosine similarity to find similar users"
   ]
  },
  {
   "cell_type": "code",
   "execution_count": 1,
   "metadata": {},
   "outputs": [],
   "source": [
    "from sklearn.model_selection import train_test_split, KFold, StratifiedKFold, LeaveOneOut, TimeSeriesSplit, cross_val_score, GridSearchCV\n",
    "from sklearn.neighbors import KNeighborsClassifier\n",
    "from sklearn.metrics import accuracy_score\n",
    "from sklearn.metrics.pairwise import cosine_similarity\n",
    "from sklearn.neighbors import NearestNeighbors\n",
    "from sklearn.metrics import precision_score, recall_score, accuracy_score\n",
    "\n",
    "\n"
   ]
  },
  {
   "cell_type": "code",
   "execution_count": 92,
   "metadata": {},
   "outputs": [],
   "source": [
    "user_similarity = cosine_similarity(normalized_user_item_matrix.fillna(0)) "
   ]
  },
  {
   "cell_type": "code",
   "execution_count": 93,
   "metadata": {},
   "outputs": [],
   "source": [
    "user_similarity_df = pd.DataFrame(user_similarity, index=normalized_user_item_matrix.index, columns=normalized_user_item_matrix.index)"
   ]
  },
  {
   "cell_type": "code",
   "execution_count": 125,
   "metadata": {},
   "outputs": [
    {
     "name": "stdout",
     "output_type": "stream",
     "text": [
      "User Similarity Matrix:\n",
      " user_id       1         2         3         4         5         6         7    \\\n",
      "user_id                                                                         \n",
      "1        1.000000  0.006000  0.009740 -0.009925  0.032810  0.002708 -0.009751   \n",
      "2        0.006000  1.000000 -0.021108  0.001033  0.001144  0.005201  0.001024   \n",
      "3        0.009740 -0.021108  1.000000 -0.008293 -0.000009  0.028089 -0.005109   \n",
      "4       -0.009925  0.001033 -0.008293  1.000000  0.001876 -0.023753 -0.014791   \n",
      "5        0.032810  0.001144 -0.000009  0.001876  1.000000  0.001226 -0.035912   \n",
      "\n",
      "user_id       8         9         10   ...       934       935       936  \\\n",
      "user_id                                ...                                 \n",
      "1        0.055125  0.037932  0.004175  ... -0.014623 -0.038772  0.051452   \n",
      "2        0.004463 -0.017864  0.010864  ...  0.005728  0.002303 -0.016070   \n",
      "3        0.126918  0.001005  0.001216  ... -0.000076 -0.002524 -0.006660   \n",
      "4        0.026723  0.008045 -0.000602  ...  0.003595  0.002726  0.006497   \n",
      "5        0.018957 -0.036341 -0.024529  ...  0.014563 -0.009845 -0.000528   \n",
      "\n",
      "user_id       937       938       939       940       941       942       943  \n",
      "user_id                                                                        \n",
      "1       -0.044763  0.009856 -0.000737 -0.005764  0.015303 -0.072516 -0.047474  \n",
      "2        0.107524 -0.011172  0.012778 -0.016847 -0.055324  0.024881  0.001309  \n",
      "3        0.041109 -0.004020 -0.008752  0.007072 -0.015045 -0.012450  0.002123  \n",
      "4       -0.036440  0.013990  0.000511  0.047556  0.032457  0.029808 -0.003122  \n",
      "5        0.006876 -0.030967 -0.035323 -0.008648  0.018625 -0.021981  0.089831  \n",
      "\n",
      "[5 rows x 943 columns]\n"
     ]
    }
   ],
   "source": [
    "print(\"User Similarity Matrix:\\n\", user_similarity_df.head())\n"
   ]
  },
  {
   "cell_type": "markdown",
   "metadata": {},
   "source": [
    "Get nearest neighbors to a given user"
   ]
  },
  {
   "cell_type": "code",
   "execution_count": 126,
   "metadata": {},
   "outputs": [
    {
     "name": "stdout",
     "output_type": "stream",
     "text": [
      "Top 4 similar users to User 1: [97, 778, 566, 334]\n"
     ]
    }
   ],
   "source": [
    "def get_nearest_neighbors(target_user, k):\n",
    "    similar_users=user_similarity_df[target_user].drop(target_user).nlargest(k)\n",
    "    return similar_users.index.tolist()\n",
    "\n",
    "target_user = 1  \n",
    "k_neighbors = get_nearest_neighbors(target_user, k=4)\n",
    "\n",
    "print(f\"Top {len(k_neighbors)} similar users to User {target_user}:\", k_neighbors)"
   ]
  },
  {
   "cell_type": "markdown",
   "metadata": {},
   "source": [
    "Given a target user, recommend the top-rated movies from their nearest\n",
    "neighbors"
   ]
  },
  {
   "cell_type": "code",
   "execution_count": 127,
   "metadata": {},
   "outputs": [],
   "source": [
    "movies = item[['movie_id', 'title']]"
   ]
  },
  {
   "cell_type": "code",
   "execution_count": 128,
   "metadata": {},
   "outputs": [],
   "source": [
    "def recommend_movies(target_user, k=4, top_n=5): \n",
    "\n",
    "    neighbors = get_nearest_neighbors(target_user, k)\n",
    "    print(f\"Top {k} neighbors for User {target_user}: {neighbors}\")\n",
    "\n",
    "    neighbor_ratings = user_item_matrix.loc[neighbors]    \n",
    "\n",
    "    high_rated_movies = neighbor_ratings[neighbor_ratings >= 3.5]\n",
    "\n",
    "    # Step 3: Remove movies the target user has already rated\n",
    "    user_rated_movies = set(user_item_matrix.loc[target_user].dropna().index)\n",
    "\n",
    "    # Drop already rated movies\n",
    "    recommended_movies = high_rated_movies.drop(columns=user_rated_movies, errors=\"ignore\")\n",
    "\n",
    "    # Check if any recommendations remain\n",
    "    if recommended_movies.dropna(how=\"all\").empty:\n",
    "        print(f\"No new recommendations found for User {target_user}. Try increasing `k` or lowering rating threshold.\")\n",
    "        return []\n",
    "\n",
    "    # Step 4: Count recommendations and get top N movies\n",
    "    movie_scores = recommended_movies.count().sort_values(ascending=False)\n",
    "    top_movie_ids = movie_scores.head(top_n).index.tolist()\n",
    "\n",
    "    # Step 5: Map movie IDs to titles\n",
    "    recommended_movie_titles = movies.set_index(\"movie_id\").reindex(top_movie_ids)[\"title\"].dropna().tolist()\n",
    "\n",
    "    return recommended_movie_titles\n"
   ]
  },
  {
   "cell_type": "code",
   "execution_count": 129,
   "metadata": {},
   "outputs": [
    {
     "name": "stdout",
     "output_type": "stream",
     "text": [
      "Top 4 neighbors for User 20: [843, 571, 908, 935]\n",
      "Recommended Movies for User 20: ['Alien (1979)', 'Terminator, The (1984)', 'Godfather, The (1972)', 'Forbidden Planet (1956)', 'Manchurian Candidate, The (1962)']\n"
     ]
    }
   ],
   "source": [
    "target_user = 20\n",
    "recommended_movies = recommend_movies(target_user)\n",
    "print(f\"Recommended Movies for User {target_user}:\", recommended_movies)\n",
    "\n"
   ]
  },
  {
   "cell_type": "markdown",
   "metadata": {},
   "source": [
    "Precision and Recall to evaluate the quality of\n",
    "recommendations"
   ]
  },
  {
   "cell_type": "code",
   "execution_count": 163,
   "metadata": {},
   "outputs": [],
   "source": [
    "def load_data(fold):\n",
    "    train_data = pd.read_csv(f'u{fold}.base', sep='\\t', names=['user_id', 'item_id', 'rating', 'timestamp'])\n",
    "    test_data = pd.read_csv(f'u{fold}.test', sep='\\t', names=['user_id', 'item_id', 'rating', 'timestamp'])\n",
    "    return train_data, test_data"
   ]
  },
  {
   "cell_type": "code",
   "execution_count": 164,
   "metadata": {},
   "outputs": [],
   "source": [
    "def preprocess_data(train_data, test_data):\n",
    "    all_items=set(train_data['item_id']).union(set(test_data['item_id']))\n",
    "\n",
    "    train_matrix=train_data.pivot(index='user_id',columns='item_id',values='rating').reindex(columns=all_items).fillna(0)\n",
    "    test_matrix=test_data.pivot(index='user_id',columns='item_id',values='rating').reindex(columns=all_items).fillna(0)\n",
    "\n",
    "    X_train=train_matrix.values\n",
    "    y_train=(train_matrix > 3.5).astype(int).values \n",
    "    X_test=test_matrix.values\n",
    "    y_test=(test_matrix > 3.5).astype(int).values\n",
    "    \n",
    "    return X_train, y_train, X_test, y_test "
   ]
  },
  {
   "cell_type": "code",
   "execution_count": 165,
   "metadata": {},
   "outputs": [],
   "source": [
    "def train_knn(n_neighbors,X_train,y_train):\n",
    "    knn_model=KNeighborsClassifier(n_neighbors, metric='cosine')\n",
    "    knn_model.fit(X_train, y_train)\n",
    "    return knn_model"
   ]
  },
  {
   "cell_type": "code",
   "execution_count": 166,
   "metadata": {},
   "outputs": [],
   "source": [
    "def evaluate_knn_model(knn_model,X_test,y_test):\n",
    "    y_pred=knn_model.predict(X_test)\n",
    "    accuracy=accuracy_score(y_test.ravel(),y_pred.ravel())\n",
    "    precision=precision_score(y_test.ravel(), y_pred.ravel())\n",
    "    recall=recall_score(y_test.ravel(), y_pred.ravel(), average='macro', zero_division=0)\n",
    "    return accuracy, precision, recall"
   ]
  },
  {
   "cell_type": "code",
   "execution_count": 175,
   "metadata": {},
   "outputs": [],
   "source": [
    "\n",
    "def run_knn(n_neighbors):\n",
    "\n",
    "    accuracies, precisions, recalls = [], [], []\n",
    "\n",
    "    for fold in range(1, 6):  \n",
    "        train_data, test_data = load_data(fold)\n",
    "        X_train, y_train, X_test, y_test = preprocess_data(train_data, test_data)\n",
    "        \n",
    "        knn_model = train_knn(n_neighbors,X_train, y_train)\n",
    "        accuracy, precision, recall = evaluate_knn_model(knn_model, X_test, y_test)\n",
    "\n",
    "        accuracies.append(accuracy)\n",
    "        precisions.append(precision)\n",
    "        recalls.append(recall)\n",
    "\n",
    "        print(f\"Fold {fold} Accuracy: {accuracy:.4f}\")\n",
    "        print(f\"Fold {fold} Precision: {precision:.4f}\")\n",
    "        print(f\"Fold {fold} Recall: {recall:.4f}\\n\")\n",
    "\n",
    "    return {\n",
    "        'k': n_neighbors,\n",
    "        'accuracy': np.mean(accuracies),\n",
    "        'precision': np.mean(precisions),\n",
    "        'recall': np.mean(recalls)\n",
    "    }\n"
   ]
  },
  {
   "cell_type": "code",
   "execution_count": 169,
   "metadata": {},
   "outputs": [
    {
     "name": "stdout",
     "output_type": "stream",
     "text": [
      "Fold 1 Accuracy: 0.9719\n",
      "Fold 1 Precision: 0.2383\n",
      "Fold 1 Recall: 0.7012\n",
      "\n",
      "Fold 2 Accuracy: 0.9796\n",
      "Fold 2 Precision: 0.2170\n",
      "Fold 2 Recall: 0.6838\n",
      "\n",
      "Fold 3 Accuracy: 0.9831\n",
      "Fold 3 Precision: 0.1965\n",
      "Fold 3 Recall: 0.6943\n",
      "\n",
      "Fold 4 Accuracy: 0.9842\n",
      "Fold 4 Precision: 0.1968\n",
      "Fold 4 Recall: 0.6955\n",
      "\n",
      "Fold 5 Accuracy: 0.9848\n",
      "Fold 5 Precision: 0.2105\n",
      "Fold 5 Recall: 0.7057\n",
      "\n"
     ]
    }
   ],
   "source": [
    "run_knn(3)"
   ]
  },
  {
   "cell_type": "markdown",
   "metadata": {},
   "source": [
    "Test different values of k to see its effect on recommendations\n"
   ]
  },
  {
   "cell_type": "code",
   "execution_count": 177,
   "metadata": {},
   "outputs": [
    {
     "name": "stdout",
     "output_type": "stream",
     "text": [
      "Fold 1 Accuracy: 0.9605\n",
      "Fold 1 Precision: 0.1716\n",
      "Fold 1 Recall: 0.7080\n",
      "\n",
      "Fold 2 Accuracy: 0.9695\n",
      "Fold 2 Precision: 0.1484\n",
      "Fold 2 Recall: 0.6966\n",
      "\n",
      "Fold 3 Accuracy: 0.9740\n",
      "Fold 3 Precision: 0.1281\n",
      "Fold 3 Recall: 0.7007\n",
      "\n",
      "Fold 4 Accuracy: 0.9757\n",
      "Fold 4 Precision: 0.1285\n",
      "Fold 4 Recall: 0.7023\n",
      "\n",
      "Fold 5 Accuracy: 0.9760\n",
      "Fold 5 Precision: 0.1364\n",
      "Fold 5 Recall: 0.7154\n",
      "\n",
      "Fold 1 Accuracy: 0.9719\n",
      "Fold 1 Precision: 0.2383\n",
      "Fold 1 Recall: 0.7012\n",
      "\n",
      "Fold 2 Accuracy: 0.9796\n",
      "Fold 2 Precision: 0.2170\n",
      "Fold 2 Recall: 0.6838\n",
      "\n",
      "Fold 3 Accuracy: 0.9831\n",
      "Fold 3 Precision: 0.1965\n",
      "Fold 3 Recall: 0.6943\n",
      "\n",
      "Fold 4 Accuracy: 0.9842\n",
      "Fold 4 Precision: 0.1968\n",
      "Fold 4 Recall: 0.6955\n",
      "\n",
      "Fold 5 Accuracy: 0.9848\n",
      "Fold 5 Precision: 0.2105\n",
      "Fold 5 Recall: 0.7057\n",
      "\n",
      "Fold 1 Accuracy: 0.9755\n",
      "Fold 1 Precision: 0.2713\n",
      "Fold 1 Recall: 0.6940\n",
      "\n",
      "Fold 2 Accuracy: 0.9825\n",
      "Fold 2 Precision: 0.2516\n",
      "Fold 2 Recall: 0.6746\n",
      "\n",
      "Fold 3 Accuracy: 0.9859\n",
      "Fold 3 Precision: 0.2341\n",
      "Fold 3 Recall: 0.6876\n",
      "\n",
      "Fold 4 Accuracy: 0.9870\n",
      "Fold 4 Precision: 0.2381\n",
      "Fold 4 Recall: 0.6890\n",
      "\n",
      "Fold 5 Accuracy: 0.9870\n",
      "Fold 5 Precision: 0.2455\n",
      "Fold 5 Recall: 0.6991\n",
      "\n",
      "                  0         1         2\n",
      "k          1.000000  3.000000  5.000000\n",
      "accuracy   0.971137  0.980737  0.983584\n",
      "precision  0.142604  0.211809  0.248123\n",
      "recall     0.704604  0.696107  0.688863\n"
     ]
    }
   ],
   "source": [
    "k_values = [1, 3, 5]\n",
    "final_results=[]\n",
    "\n",
    "for k in k_values:\n",
    "    results=run_knn(k)\n",
    "    final_results.append(results)\n",
    "df_results =pd.DataFrame(final_results).T\n",
    "print(df_results)"
   ]
  },
  {
   "cell_type": "markdown",
   "metadata": {},
   "source": [
    "plotting recommendation performance based on values of k"
   ]
  },
  {
   "cell_type": "code",
   "execution_count": 181,
   "metadata": {},
   "outputs": [
    {
     "data": {
      "image/png": "[encoded data removed]",
      "text/plain": [
       "<Figure size 1000x600 with 1 Axes>"
      ]
     },
     "metadata": {},
     "output_type": "display_data"
    }
   ],
   "source": [
    "import matplotlib.pyplot as plt\n",
    "import seaborn as sns\n",
    "import pandas as pd\n",
    "\n",
    "df_results = pd.DataFrame(final_results)\n",
    "\n",
    "plt.figure(figsize=(10, 6))\n",
    "sns.set_style(\"whitegrid\")\n",
    "\n",
    "plt.plot(df_results['k'], df_results['accuracy'], marker='o', linestyle='-', label='Accuracy', color='blue')\n",
    "plt.plot(df_results['k'], df_results['precision'], marker='s', linestyle='--', label='Precision', color='green')\n",
    "plt.plot(df_results['k'], df_results['recall'], marker='^', linestyle='-.', label='Recall', color='red')\n",
    "\n",
    "\n",
    "plt.xlabel(\"Number of Neighbors (k)\")\n",
    "plt.ylabel(\"Performance Metrics\")\n",
    "plt.title(\"Recommendation Performance vs k\")\n",
    "plt.legend()\n",
    "plt.xticks(df_results['k'])\n",
    "plt.show()\n"
   ]
  },
  {
   "cell_type": "code",
   "execution_count": 173,
   "metadata": {},
   "outputs": [
    {
     "name": "stderr",
     "output_type": "stream",
     "text": [
      "\n",
      "[notice] A new release of pip is available: 24.2 -> 25.0.1\n",
      "[notice] To update, run: python.exe -m pip install --upgrade pip\n"
     ]
    },
    {
     "name": "stdout",
     "output_type": "stream",
     "text": [
      "Collecting seaborn\n",
      "  Downloading seaborn-0.13.2-py3-none-any.whl.metadata (5.4 kB)\n",
      "Requirement already satisfied: numpy!=1.24.0,>=1.20 in c:\\users\\alaa_\\appdata\\local\\programs\\python\\python313\\lib\\site-packages (from seaborn) (2.2.3)\n",
      "Requirement already satisfied: pandas>=1.2 in c:\\users\\alaa_\\appdata\\local\\programs\\python\\python313\\lib\\site-packages (from seaborn) (2.2.3)\n",
      "Collecting matplotlib!=3.6.1,>=3.4 (from seaborn)\n",
      "  Downloading matplotlib-3.10.1-cp313-cp313-win_amd64.whl.metadata (11 kB)\n",
      "Collecting contourpy>=1.0.1 (from matplotlib!=3.6.1,>=3.4->seaborn)\n",
      "  Downloading contourpy-1.3.1-cp313-cp313-win_amd64.whl.metadata (5.4 kB)\n",
      "Collecting cycler>=0.10 (from matplotlib!=3.6.1,>=3.4->seaborn)\n",
      "  Downloading cycler-0.12.1-py3-none-any.whl.metadata (3.8 kB)\n",
      "Collecting fonttools>=4.22.0 (from matplotlib!=3.6.1,>=3.4->seaborn)\n",
      "  Downloading fonttools-4.56.0-cp313-cp313-win_amd64.whl.metadata (103 kB)\n",
      "Collecting kiwisolver>=1.3.1 (from matplotlib!=3.6.1,>=3.4->seaborn)\n",
      "  Downloading kiwisolver-1.4.8-cp313-cp313-win_amd64.whl.metadata (6.3 kB)\n",
      "Requirement already satisfied: packaging>=20.0 in c:\\users\\alaa_\\appdata\\roaming\\python\\python313\\site-packages (from matplotlib!=3.6.1,>=3.4->seaborn) (24.2)\n",
      "Collecting pillow>=8 (from matplotlib!=3.6.1,>=3.4->seaborn)\n",
      "  Downloading pillow-11.1.0-cp313-cp313-win_amd64.whl.metadata (9.3 kB)\n",
      "Collecting pyparsing>=2.3.1 (from matplotlib!=3.6.1,>=3.4->seaborn)\n",
      "  Downloading pyparsing-3.2.1-py3-none-any.whl.metadata (5.0 kB)\n",
      "Requirement already satisfied: python-dateutil>=2.7 in c:\\users\\alaa_\\appdata\\roaming\\python\\python313\\site-packages (from matplotlib!=3.6.1,>=3.4->seaborn) (2.9.0.post0)\n",
      "Requirement already satisfied: pytz>=2020.1 in c:\\users\\alaa_\\appdata\\local\\programs\\python\\python313\\lib\\site-packages (from pandas>=1.2->seaborn) (2025.1)\n",
      "Requirement already satisfied: tzdata>=2022.7 in c:\\users\\alaa_\\appdata\\local\\programs\\python\\python313\\lib\\site-packages (from pandas>=1.2->seaborn) (2025.1)\n",
      "Requirement already satisfied: six>=1.5 in c:\\users\\alaa_\\appdata\\roaming\\python\\python313\\site-packages (from python-dateutil>=2.7->matplotlib!=3.6.1,>=3.4->seaborn) (1.17.0)\n",
      "Downloading seaborn-0.13.2-py3-none-any.whl (294 kB)\n",
      "Downloading matplotlib-3.10.1-cp313-cp313-win_amd64.whl (8.1 MB)\n",
      "   ---------------------------------------- 0.0/8.1 MB ? eta -:--:--\n",
      "   - -------------------------------------- 0.3/8.1 MB ? eta -:--:--\n",
      "   -- ------------------------------------- 0.5/8.1 MB 1.7 MB/s eta 0:00:05\n",
      "   ----- ---------------------------------- 1.0/8.1 MB 1.9 MB/s eta 0:00:04\n",
      "   ------- -------------------------------- 1.6/8.1 MB 2.0 MB/s eta 0:00:04\n",
      "   ---------- ----------------------------- 2.1/8.1 MB 2.1 MB/s eta 0:00:03\n",
      "   ------------- -------------------------- 2.6/8.1 MB 2.0 MB/s eta 0:00:03\n",
      "   ------------- -------------------------- 2.6/8.1 MB 2.0 MB/s eta 0:00:03\n",
      "   -------------- ------------------------- 2.9/8.1 MB 1.6 MB/s eta 0:00:04\n",
      "   -------------- ------------------------- 2.9/8.1 MB 1.6 MB/s eta 0:00:04\n",
      "   --------------- ------------------------ 3.1/8.1 MB 1.5 MB/s eta 0:00:04\n",
      "   ------------------ --------------------- 3.7/8.1 MB 1.5 MB/s eta 0:00:03\n",
      "   -------------------- ------------------- 4.2/8.1 MB 1.6 MB/s eta 0:00:03\n",
      "   ----------------------- ---------------- 4.7/8.1 MB 1.6 MB/s eta 0:00:03\n",
      "   -------------------------- ------------- 5.2/8.1 MB 1.7 MB/s eta 0:00:02\n",
      "   ---------------------------- ----------- 5.8/8.1 MB 1.7 MB/s eta 0:00:02\n",
      "   ------------------------------- -------- 6.3/8.1 MB 1.7 MB/s eta 0:00:02\n",
      "   --------------------------------- ------ 6.8/8.1 MB 1.8 MB/s eta 0:00:01\n",
      "   ------------------------------------- -- 7.6/8.1 MB 1.8 MB/s eta 0:00:01\n",
      "   ---------------------------------------- 8.1/8.1 MB 1.8 MB/s eta 0:00:00\n",
      "Downloading contourpy-1.3.1-cp313-cp313-win_amd64.whl (220 kB)\n",
      "Downloading cycler-0.12.1-py3-none-any.whl (8.3 kB)\n",
      "Downloading fonttools-4.56.0-cp313-cp313-win_amd64.whl (2.2 MB)\n",
      "   ---------------------------------------- 0.0/2.2 MB ? eta -:--:--\n",
      "   --------- ------------------------------ 0.5/2.2 MB 2.6 MB/s eta 0:00:01\n",
      "   ------------------- -------------------- 1.0/2.2 MB 2.5 MB/s eta 0:00:01\n",
      "   ---------------------------- ----------- 1.6/2.2 MB 2.5 MB/s eta 0:00:01\n",
      "   -------------------------------------- - 2.1/2.2 MB 2.4 MB/s eta 0:00:01\n",
      "   ---------------------------------------- 2.2/2.2 MB 2.0 MB/s eta 0:00:00\n",
      "Downloading kiwisolver-1.4.8-cp313-cp313-win_amd64.whl (71 kB)\n",
      "Downloading pillow-11.1.0-cp313-cp313-win_amd64.whl (2.6 MB)\n",
      "   ---------------------------------------- 0.0/2.6 MB ? eta -:--:--\n",
      "   ---------------------------------------- 0.0/2.6 MB ? eta -:--:--\n",
      "   ---------------------------------------- 0.0/2.6 MB ? eta -:--:--\n",
      "   --- ------------------------------------ 0.3/2.6 MB ? eta -:--:--\n",
      "   --- ------------------------------------ 0.3/2.6 MB ? eta -:--:--\n",
      "   --- ------------------------------------ 0.3/2.6 MB ? eta -:--:--\n",
      "   ------- -------------------------------- 0.5/2.6 MB 278.8 kB/s eta 0:00:08\n",
      "   ------- -------------------------------- 0.5/2.6 MB 278.8 kB/s eta 0:00:08\n",
      "   ------- -------------------------------- 0.5/2.6 MB 278.8 kB/s eta 0:00:08\n",
      "   ----------- ---------------------------- 0.8/2.6 MB 354.0 kB/s eta 0:00:06\n",
      "   ----------- ---------------------------- 0.8/2.6 MB 354.0 kB/s eta 0:00:06\n",
      "   --------------- ------------------------ 1.0/2.6 MB 383.0 kB/s eta 0:00:05\n",
      "   --------------- ------------------------ 1.0/2.6 MB 383.0 kB/s eta 0:00:05\n",
      "   ------------------- -------------------- 1.3/2.6 MB 414.8 kB/s eta 0:00:04\n",
      "   ----------------------- ---------------- 1.6/2.6 MB 490.7 kB/s eta 0:00:03\n",
      "   ----------------------- ---------------- 1.6/2.6 MB 490.7 kB/s eta 0:00:03\n",
      "   ----------------------- ---------------- 1.6/2.6 MB 490.7 kB/s eta 0:00:03\n",
      "   ----------------------- ---------------- 1.6/2.6 MB 490.7 kB/s eta 0:00:03\n",
      "   ----------------------- ---------------- 1.6/2.6 MB 490.7 kB/s eta 0:00:03\n",
      "   ----------------------- ---------------- 1.6/2.6 MB 490.7 kB/s eta 0:00:03\n",
      "   --------------------------- ------------ 1.8/2.6 MB 387.5 kB/s eta 0:00:03\n",
      "   ---------------------------------------  2.6/2.6 MB 534.2 kB/s eta 0:00:01\n",
      "   ---------------------------------------- 2.6/2.6 MB 524.8 kB/s eta 0:00:00\n",
      "Downloading pyparsing-3.2.1-py3-none-any.whl (107 kB)\n",
      "Installing collected packages: pyparsing, pillow, kiwisolver, fonttools, cycler, contourpy, matplotlib, seaborn\n",
      "Successfully installed contourpy-1.3.1 cycler-0.12.1 fonttools-4.56.0 kiwisolver-1.4.8 matplotlib-3.10.1 pillow-11.1.0 pyparsing-3.2.1 seaborn-0.13.2\n",
      "Note: you may need to restart the kernel to use updated packages.\n"
     ]
    }
   ],
   "source": [
    "pip install seaborn"
   ]
  },
  {
   "cell_type": "code",
   "execution_count": 174,
   "metadata": {},
   "outputs": [
    {
     "name": "stderr",
     "output_type": "stream",
     "text": [
      "Matplotlib is building the font cache; this may take a moment.\n"
     ]
    }
   ],
   "source": [
    "import matplotlib.pyplot as plt\n",
    "import seaborn as sns"
   ]
  },
  {
   "cell_type": "markdown",
   "metadata": {},
   "source": [
    "Plotting similarity distributions for one fold using k=3"
   ]
  },
  {
   "cell_type": "code",
   "execution_count": null,
   "metadata": {},
   "outputs": [
    {
     "data": {
      "image/png": "[encoded data removed]",
      "text/plain": [
       "<Figure size 640x480 with 1 Axes>"
      ]
     },
     "metadata": {},
     "output_type": "display_data"
    }
   ],
   "source": [
    "train_data = pd.read_csv('u1.base', sep='\\t', names=['user_id', 'item_id', 'rating', 'timestamp'])\n",
    "train_matrix = train_data.pivot(index='user_id', columns='item_id', values='rating').fillna(0)\n",
    "user_similarity = cosine_similarity(train_matrix)\n",
    "\n",
    "sns.histplot(user_similarity.flatten(), bins=50, kde=True)\n",
    "plt.xlabel(\"Cosine Similarity\")\n",
    "plt.ylabel(\"Frequency\")\n",
    "plt.title(\"User Similarity Distribution\")\n",
    "plt.show()"
   ]
  }
 ],
 "metadata": {
  "kernelspec": {
   "display_name": "Python 3",
   "language": "python",
   "name": "python3"
  },
  "language_info": {
   "codemirror_mode": {
    "name": "ipython",
    "version": 3
   },
   "file_extension": ".py",
   "mimetype": "text/x-python",
   "name": "python",
   "nbconvert_exporter": "python",
   "pygments_lexer": "ipython3",
   "version": "3.13.0"
  }
 },
 "nbformat": 4,
 "nbformat_minor": 2
}
